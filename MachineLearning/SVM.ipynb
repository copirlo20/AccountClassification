{
 "cells": [
  {
   "cell_type": "code",
   "execution_count": 1,
   "metadata": {},
   "outputs": [],
   "source": [
    "import numpy as np\n",
    "import pandas as pd\n",
    "import matplotlib.pyplot as plt\n",
    "import gender_guesser.detector as gender\n",
    "from sklearn import preprocessing\n",
    "from sklearn.svm import SVC\n",
    "from sklearn.model_selection import StratifiedKFold, train_test_split\n",
    "from sklearn.model_selection import GridSearchCV\n",
    "from sklearn.metrics import accuracy_score\n",
    "from sklearn.metrics import classification_report\n",
    "from sklearn.metrics import confusion_matrix"
   ]
  },
  {
   "cell_type": "code",
   "execution_count": 2,
   "metadata": {},
   "outputs": [],
   "source": [
    "def read_datasets():\n",
    "    real_users = pd.read_csv(\"../cresci-2015/E13/users.csv\")\n",
    "    fake_users = pd.read_csv(\"../cresci-2015/INT/users.csv\")\n",
    "    x = pd.concat([real_users,fake_users])    \n",
    "    y = len(fake_users)*[0] + len(real_users)*[1]    \n",
    "    return x,y"
   ]
  },
  {
   "cell_type": "code",
   "execution_count": 3,
   "metadata": {},
   "outputs": [],
   "source": [
    "def predict_sex(name):\n",
    "    d = gender.Detector(case_sensitive=False)\n",
    "    first_name= str(name).split(' ')[0]\n",
    "    sex = d.get_gender(u\"{}\".format(first_name))\n",
    "    sex_code_dict = {'female': -2, 'mostly_female': -1,'unknown':0, 'andy': 0, 'mostly_male':1, 'male': 2}\n",
    "    code = sex_code_dict[sex]\n",
    "    return code"
   ]
  },
  {
   "cell_type": "code",
   "execution_count": 4,
   "metadata": {},
   "outputs": [],
   "source": [
    "def extract_features(x):\n",
    "    lang_list = list(enumerate(np.unique(x['lang'])))\n",
    "    lang_dict = { name : i for i, name in lang_list }             \n",
    "    x.loc[:,'lang_code'] = x['lang'].map( lambda x: lang_dict[x]).astype(int)    \n",
    "    x.loc[:,'sex_code'] = predict_sex(x['name'])  \n",
    "    feature_columns_to_use = ['statuses_count','followers_count','friends_count','favourites_count','listed_count','sex_code','lang_code']\n",
    "    x = x.loc[:,feature_columns_to_use]\n",
    "    return x"
   ]
  },
  {
   "cell_type": "code",
   "execution_count": 5,
   "metadata": {},
   "outputs": [],
   "source": [
    "def plot_confusion_matrix(cm, title='CONFUSION MATRIX', cmap=plt.cm.Reds):\n",
    "    target_names=['Fake','Genuine']\n",
    "    plt.imshow(cm, interpolation='nearest', cmap=cmap)\n",
    "    plt.title(title)\n",
    "    plt.colorbar()\n",
    "    tick_marks = np.arange(len(target_names))\n",
    "    plt.xticks(tick_marks, target_names, rotation=45)\n",
    "    plt.yticks(tick_marks, target_names)\n",
    "    plt.tight_layout()\n",
    "    plt.ylabel('True label')\n",
    "    plt.xlabel('Predicted label')"
   ]
  },
  {
   "cell_type": "code",
   "execution_count": 6,
   "metadata": {},
   "outputs": [],
   "source": [
    "def train(X_train, y_train, X_test, nSplits):\n",
    "    X_train = preprocessing.scale(X_train)\n",
    "    X_test = preprocessing.scale(X_test)\n",
    "    Cs = 10.0 ** np.arange(-2, 3, 0.5)\n",
    "    gammas = 10.0 ** np.arange(-2, 3, 0.5)\n",
    "    param = [{'gamma': gammas, 'C': Cs}]\n",
    "    cvk = StratifiedKFold(n_splits=nSplits)\n",
    "    classifier = SVC()\n",
    "    clf = GridSearchCV(classifier, param_grid=param, cv=cvk)\n",
    "    clf.fit(X_train, y_train)\n",
    "    y_pred = clf.best_estimator_.predict(X_test)\n",
    "    return  y_pred"
   ]
  },
  {
   "cell_type": "code",
   "execution_count": 7,
   "metadata": {},
   "outputs": [],
   "source": [
    "x, y = read_datasets()\n",
    "x = extract_features(x)\n",
    "X_train, X_test, y_train, y_test = train_test_split(x, y, test_size=0.2, random_state=44)\n",
    "y_pred = train(X_train, y_train, X_test, 5)"
   ]
  },
  {
   "cell_type": "code",
   "execution_count": 8,
   "metadata": {},
   "outputs": [
    {
     "name": "stdout",
     "output_type": "stream",
     "text": [
      "[[265   3]\n",
      " [ 53 243]]\n",
      "              precision    recall  f1-score   support\n",
      "\n",
      "        Fake       0.83      0.99      0.90       268\n",
      "     Genuine       0.99      0.82      0.90       296\n",
      "\n",
      "    accuracy                           0.90       564\n",
      "   macro avg       0.91      0.90      0.90       564\n",
      "weighted avg       0.91      0.90      0.90       564\n",
      "\n",
      "accuracy:  0.900709219858156\n"
     ]
    },
    {
     "data": {
      "image/png": "[encoded data removed]",
      "text/plain": [
       "<Figure size 640x480 with 2 Axes>"
      ]
     },
     "metadata": {},
     "output_type": "display_data"
    }
   ],
   "source": [
    "confusionMatrix = confusion_matrix(y_test, y_pred)\n",
    "print(confusionMatrix)\n",
    "print(classification_report(y_test, y_pred, target_names=['Fake','Genuine']))\n",
    "print('accuracy: ' ,accuracy_score(y_test, y_pred))\n",
    "plot_confusion_matrix(confusionMatrix)"
   ]
  }
 ],
 "metadata": {
  "kernelspec": {
   "display_name": ".conda",
   "language": "python",
   "name": "python3"
  },
  "language_info": {
   "codemirror_mode": {
    "name": "ipython",
    "version": 3
   },
   "file_extension": ".py",
   "mimetype": "text/x-python",
   "name": "python",
   "nbconvert_exporter": "python",
   "pygments_lexer": "ipython3",
   "version": "3.12.11"
  }
 },
 "nbformat": 4,
 "nbformat_minor": 2
}
