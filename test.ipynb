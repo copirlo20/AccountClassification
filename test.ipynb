{
 "cells": [
  {
   "cell_type": "code",
   "execution_count": 20,
   "id": "e80b27d5",
   "metadata": {},
   "outputs": [],
   "source": [
    "import numpy as np\n",
    "import pandas as pd\n",
    "import torch\n",
    "from torch_geometric.data import Data\n",
    "from GNN import Data_processing, Edge_features, Edges, GCN, GAT"
   ]
  },
  {
   "cell_type": "markdown",
   "id": "1e720592",
   "metadata": {},
   "source": [
    "## Test trên Data Real"
   ]
  },
  {
   "cell_type": "code",
   "execution_count": 21,
   "id": "5cd51086",
   "metadata": {},
   "outputs": [
    {
     "name": "stdout",
     "output_type": "stream",
     "text": [
      "Prediction\n",
      "Real    3474\n",
      "Name: count, dtype: int64\n"
     ]
    }
   ],
   "source": [
    "real_users = pd.read_csv(\"./dataset_test/users.csv\")\n",
    "data_real = Data_processing(real_users)\n",
    "edges_real = Edges(Edge_features(data_real), 10)\n",
    "\n",
    "x_real = data_real.drop(['id', 'name', 'screen_name'], axis=1).values\n",
    "x_real = torch.tensor(x_real, dtype=torch.float)\n",
    "graph_real = Data(x=x_real, edge_index=edges_real)\n",
    "\n",
    "model = GAT(graph_real.num_node_features, 32, 2)\n",
    "model.load_state_dict(torch.load('GAT.pth'))\n",
    "model.eval()\n",
    "with torch.no_grad():\n",
    "    out = model(graph_real.x, graph_real.edge_index)\n",
    "    predictions = out.argmax(dim=1).cpu().numpy()\n",
    "    \n",
    "result_df = pd.DataFrame({'Prediction': predictions})\n",
    "result_df['Prediction'] = result_df['Prediction'].map({0: 'Real', 1: 'Fake'})\n",
    "print(result_df['Prediction'].value_counts())"
   ]
  },
  {
   "cell_type": "markdown",
   "id": "e786fd9c",
   "metadata": {},
   "source": [
    "## Test trên Data Fake"
   ]
  },
  {
   "cell_type": "code",
   "execution_count": 22,
   "id": "aafb0620",
   "metadata": {},
   "outputs": [
    {
     "data": {
      "text/plain": [
       "Prediction\n",
       "Fake    3189\n",
       "Real     162\n",
       "Name: count, dtype: int64"
      ]
     },
     "execution_count": 22,
     "metadata": {},
     "output_type": "execute_result"
    }
   ],
   "source": [
    "fake_users = pd.read_csv(\"./dataset_test/fusers.csv\")\n",
    "data_fake = Data_processing(fake_users)\n",
    "edges_fake = Edges(Edge_features(data_fake), 10)\n",
    "\n",
    "x_fake = data_fake.drop(['id', 'name', 'screen_name'], axis=1).values\n",
    "x_fake = torch.tensor(x_fake, dtype=torch.float)\n",
    "graph_fake = Data(x=x_fake, edge_index=edges_fake)\n",
    "\n",
    "model = GAT(graph_fake.num_node_features, 32, 2)\n",
    "model.load_state_dict(torch.load('GAT.pth'))\n",
    "model.eval()\n",
    "with torch.no_grad():\n",
    "    out = model(graph_fake.x, graph_fake.edge_index)\n",
    "    predictions = out.argmax(dim=1).numpy()\n",
    "    \n",
    "result_df = pd.DataFrame({'Prediction': predictions})\n",
    "result_df['Prediction'] = result_df['Prediction'].map({0: 'Real', 1: 'Fake'})\n",
    "result_df['Prediction'].value_counts()"
   ]
  },
  {
   "cell_type": "code",
   "execution_count": 23,
   "id": "9e1cd547",
   "metadata": {},
   "outputs": [
    {
     "name": "stdout",
     "output_type": "stream",
     "text": [
      "Accuracy on new dataset: 93.07%\n"
     ]
    }
   ],
   "source": [
    "test_users = pd.read_csv(\"./dataset_test/users.csv\")\n",
    "test_fusers = pd.read_csv(\"./dataset_test/fusers.csv\")\n",
    "test = pd.concat([test_users, test_fusers], ignore_index=True)\n",
    "labels = test['dataset'].map({v: i for i, v in enumerate(test['dataset'].unique())}).values\n",
    "\n",
    "data_new = Data_processing(test)\n",
    "edges_new = Edges(Edge_features(data_new), k=10)\n",
    "x_new = data_new.drop(['id', 'name', 'screen_name'], axis=1).values\n",
    "x_new = torch.tensor(x_new, dtype=torch.float)\n",
    "y = torch.tensor(labels, dtype=torch.long)\n",
    "graph_new = Data(x=x_new, edge_index=edges_new, y=y)\n",
    "\n",
    "model = GAT(graph_new.num_node_features, 32, len(np.unique(labels)))\n",
    "model.load_state_dict(torch.load('GAT.pth'))\n",
    "model.eval()\n",
    "with torch.no_grad():\n",
    "    out = model(graph_new.x, graph_new.edge_index)\n",
    "    predictions = out.argmax(dim=1).cpu().numpy()\n",
    "    acc = (predictions == graph_new.y.cpu().numpy()).sum() / graph_new.y.size(0)\n",
    "\n",
    "acc = round(acc * 100, 2)\n",
    "print(f'Accuracy on new dataset: {acc}%')"
   ]
  }
 ],
 "metadata": {
  "kernelspec": {
   "display_name": "Python 3",
   "language": "python",
   "name": "python3"
  },
  "language_info": {
   "codemirror_mode": {
    "name": "ipython",
    "version": 3
   },
   "file_extension": ".py",
   "mimetype": "text/x-python",
   "name": "python",
   "nbconvert_exporter": "python",
   "pygments_lexer": "ipython3",
   "version": "3.12.9"
  }
 },
 "nbformat": 4,
 "nbformat_minor": 5
}
